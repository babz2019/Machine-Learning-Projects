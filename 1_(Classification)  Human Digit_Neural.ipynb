{
 "cells": [
  {
   "cell_type": "code",
   "execution_count": null,
   "metadata": {},
   "outputs": [],
   "source": []
  },
  {
   "cell_type": "markdown",
   "metadata": {},
   "source": [
    "### Multiclass Classification using Random Forest and Logistic Regression"
   ]
  },
  {
   "cell_type": "code",
   "execution_count": null,
   "metadata": {},
   "outputs": [],
   "source": []
  },
  {
   "cell_type": "code",
   "execution_count": null,
   "metadata": {},
   "outputs": [],
   "source": [
    "# We want to predict handwritten numerical digits"
   ]
  },
  {
   "cell_type": "code",
   "execution_count": null,
   "metadata": {},
   "outputs": [],
   "source": []
  },
  {
   "cell_type": "code",
   "execution_count": null,
   "metadata": {},
   "outputs": [],
   "source": [
    "# Let us install the tensorflow module\n",
    "!pip install tensorflow"
   ]
  },
  {
   "cell_type": "code",
   "execution_count": 2,
   "metadata": {},
   "outputs": [],
   "source": [
    "%matplotlib inline\n",
    "import matplotlib.pyplot as plt\n",
    "import numpy as np\n",
    "import pandas as pd\n",
    "from sklearn.datasets import load_digits"
   ]
  },
  {
   "cell_type": "code",
   "execution_count": 3,
   "metadata": {},
   "outputs": [
    {
     "data": {
      "text/plain": [
       "'C:\\\\Users\\\\Dr_Sam\\\\Desktop\\\\CHM SESSION JULY-NOV 2023\\\\WISDOM CLASS\\\\DATA SCIENCE-MACHINE LEARNING\\\\(WISDOM) Lecture 7 - Artificial Neural Networks with TensorFlow'"
      ]
     },
     "execution_count": 3,
     "metadata": {},
     "output_type": "execute_result"
    }
   ],
   "source": [
    "import warnings\n",
    "warnings.filterwarnings(\"ignore\")\n",
    "%pwd"
   ]
  },
  {
   "cell_type": "code",
   "execution_count": null,
   "metadata": {},
   "outputs": [],
   "source": []
  },
  {
   "cell_type": "markdown",
   "metadata": {},
   "source": [
    "## Using the TensorFlow Digit Data"
   ]
  },
  {
   "cell_type": "code",
   "execution_count": 5,
   "metadata": {},
   "outputs": [],
   "source": [
    "import tensorflow as tf\n",
    "from tensorflow import keras\n",
    "import matplotlib.pyplot as plt\n",
    "%matplotlib inline\n",
    "import numpy as np\n",
    "import pandas as pd"
   ]
  },
  {
   "cell_type": "code",
   "execution_count": null,
   "metadata": {},
   "outputs": [],
   "source": [
    "import warnings\n",
    "warnings.filterwarnings(\"ignore\")"
   ]
  },
  {
   "cell_type": "code",
   "execution_count": null,
   "metadata": {},
   "outputs": [],
   "source": []
  },
  {
   "cell_type": "code",
   "execution_count": null,
   "metadata": {},
   "outputs": [],
   "source": [
    "(X_train,y_train), (X_test, y_test) = keras.datasets.mnist.load_data()"
   ]
  },
  {
   "cell_type": "code",
   "execution_count": null,
   "metadata": {},
   "outputs": [],
   "source": [
    "X_train.shape"
   ]
  },
  {
   "cell_type": "code",
   "execution_count": null,
   "metadata": {},
   "outputs": [],
   "source": [
    "y_train.shape"
   ]
  },
  {
   "cell_type": "code",
   "execution_count": null,
   "metadata": {},
   "outputs": [],
   "source": [
    "X_train_flattened = X_train.reshape(len(X_train),28*28)\n",
    "X_train_flattened.shape"
   ]
  },
  {
   "cell_type": "code",
   "execution_count": null,
   "metadata": {},
   "outputs": [],
   "source": [
    "Xtrain_matrix = X_train_flattened[0].reshape((28,28))"
   ]
  },
  {
   "cell_type": "code",
   "execution_count": null,
   "metadata": {},
   "outputs": [],
   "source": [
    "plt.matshow(Xtrain_matrix)"
   ]
  },
  {
   "cell_type": "code",
   "execution_count": null,
   "metadata": {},
   "outputs": [],
   "source": [
    "# How to concatenate two numpy arrays horizontally\n",
    "digits_array =np.c_[X_train_flattened, y_train]\n",
    "digits_array"
   ]
  },
  {
   "cell_type": "code",
   "execution_count": 4,
   "metadata": {},
   "outputs": [
    {
     "ename": "NameError",
     "evalue": "name 'digits_array' is not defined",
     "output_type": "error",
     "traceback": [
      "\u001b[1;31m---------------------------------------------------------------------------\u001b[0m",
      "\u001b[1;31mNameError\u001b[0m                                 Traceback (most recent call last)",
      "Cell \u001b[1;32mIn[4], line 2\u001b[0m\n\u001b[0;32m      1\u001b[0m \u001b[38;5;66;03m# Saving the numpy dataset as csv\u001b[39;00m\n\u001b[1;32m----> 2\u001b[0m np\u001b[38;5;241m.\u001b[39msavetxt(\u001b[38;5;124m\"\u001b[39m\u001b[38;5;124mNeural_networks_digits_dataset.csv\u001b[39m\u001b[38;5;124m\"\u001b[39m, \u001b[43mdigits_array\u001b[49m, fmt\u001b[38;5;241m=\u001b[39m\u001b[38;5;124m\"\u001b[39m\u001b[38;5;132;01m%d\u001b[39;00m\u001b[38;5;124m\"\u001b[39m, delimiter\u001b[38;5;241m=\u001b[39m\u001b[38;5;124m\"\u001b[39m\u001b[38;5;124m,\u001b[39m\u001b[38;5;124m\"\u001b[39m)\n",
      "\u001b[1;31mNameError\u001b[0m: name 'digits_array' is not defined"
     ]
    }
   ],
   "source": [
    "# Saving the numpy dataset as csv\n",
    "np.savetxt(\"Neural_networks_digits_dataset.csv\", digits_array, fmt=\"%d\", delimiter=\",\")"
   ]
  },
  {
   "cell_type": "code",
   "execution_count": null,
   "metadata": {},
   "outputs": [],
   "source": []
  },
  {
   "cell_type": "code",
   "execution_count": 7,
   "metadata": {},
   "outputs": [
    {
     "data": {
      "text/plain": [
       "array([[0, 0, 0, ..., 0, 0, 5],\n",
       "       [0, 0, 0, ..., 0, 0, 0],\n",
       "       [0, 0, 0, ..., 0, 0, 4],\n",
       "       ...,\n",
       "       [0, 0, 0, ..., 0, 0, 5],\n",
       "       [0, 0, 0, ..., 0, 0, 6],\n",
       "       [0, 0, 0, ..., 0, 0, 8]])"
      ]
     },
     "execution_count": 7,
     "metadata": {},
     "output_type": "execute_result"
    }
   ],
   "source": [
    "# Loading datasets as numpy array\n",
    "digits_arr = np.loadtxt('Neural_networks_digits_dataset.csv', delimiter=',', dtype=int)\n",
    "digits_arr"
   ]
  },
  {
   "cell_type": "code",
   "execution_count": null,
   "metadata": {},
   "outputs": [],
   "source": []
  },
  {
   "cell_type": "code",
   "execution_count": 8,
   "metadata": {},
   "outputs": [
    {
     "data": {
      "text/plain": [
       "array([[0, 0, 0, ..., 0, 0, 0],\n",
       "       [0, 0, 0, ..., 0, 0, 0],\n",
       "       [0, 0, 0, ..., 0, 0, 0],\n",
       "       ...,\n",
       "       [0, 0, 0, ..., 0, 0, 0],\n",
       "       [0, 0, 0, ..., 0, 0, 0],\n",
       "       [0, 0, 0, ..., 0, 0, 0]])"
      ]
     },
     "execution_count": 8,
     "metadata": {},
     "output_type": "execute_result"
    }
   ],
   "source": [
    "# Extracting the features\n",
    "dg_features = digits_arr[:,0:784]\n",
    "dg_features"
   ]
  },
  {
   "cell_type": "code",
   "execution_count": 9,
   "metadata": {},
   "outputs": [
    {
     "data": {
      "text/plain": [
       "array([5, 0, 4, ..., 5, 6, 8])"
      ]
     },
     "execution_count": 9,
     "metadata": {},
     "output_type": "execute_result"
    }
   ],
   "source": [
    "# Extracting the targets\n",
    "dg_target = digits_arr[:,784]\n",
    "dg_target"
   ]
  },
  {
   "cell_type": "code",
   "execution_count": null,
   "metadata": {},
   "outputs": [],
   "source": []
  },
  {
   "cell_type": "code",
   "execution_count": 10,
   "metadata": {},
   "outputs": [],
   "source": [
    "## Splitting our datasets into training and test\n",
    "from sklearn.model_selection import train_test_split"
   ]
  },
  {
   "cell_type": "code",
   "execution_count": 11,
   "metadata": {},
   "outputs": [],
   "source": [
    "# Creating your train, test split\n",
    "X_train, X_test, y_train, y_test = train_test_split(dg_features,dg_target,test_size=0.25)"
   ]
  },
  {
   "cell_type": "code",
   "execution_count": 12,
   "metadata": {},
   "outputs": [],
   "source": [
    "# Investigating some few data"
   ]
  },
  {
   "cell_type": "code",
   "execution_count": 13,
   "metadata": {},
   "outputs": [
    {
     "data": {
      "text/plain": [
       "784"
      ]
     },
     "execution_count": 13,
     "metadata": {},
     "output_type": "execute_result"
    }
   ],
   "source": [
    "input_features = X_train.shape[1]\n",
    "input_features"
   ]
  },
  {
   "cell_type": "code",
   "execution_count": null,
   "metadata": {},
   "outputs": [],
   "source": []
  },
  {
   "cell_type": "code",
   "execution_count": 14,
   "metadata": {},
   "outputs": [
    {
     "data": {
      "text/plain": [
       "<matplotlib.image.AxesImage at 0x2a3a8928910>"
      ]
     },
     "execution_count": 14,
     "metadata": {},
     "output_type": "execute_result"
    },
    {
     "data": {
      "image/png": "[encoded data removed]",
      "text/plain": [
       "<Figure size 480x480 with 1 Axes>"
      ]
     },
     "metadata": {},
     "output_type": "display_data"
    }
   ],
   "source": [
    "# Investigating train data at index 0\n",
    "Xtrain_matrix = X_train[0].reshape((28,28))\n",
    "plt.matshow(Xtrain_matrix)"
   ]
  },
  {
   "cell_type": "code",
   "execution_count": 15,
   "metadata": {},
   "outputs": [
    {
     "data": {
      "text/plain": [
       "9"
      ]
     },
     "execution_count": 15,
     "metadata": {},
     "output_type": "execute_result"
    }
   ],
   "source": [
    "y_train[0]"
   ]
  },
  {
   "cell_type": "code",
   "execution_count": 16,
   "metadata": {},
   "outputs": [
    {
     "data": {
      "text/plain": [
       "{0, 1, 2, 3, 4, 5, 6, 7, 8, 9}"
      ]
     },
     "execution_count": 16,
     "metadata": {},
     "output_type": "execute_result"
    }
   ],
   "source": [
    "# Checking the unique values using set\n",
    "set(y_train)"
   ]
  },
  {
   "cell_type": "code",
   "execution_count": 17,
   "metadata": {},
   "outputs": [
    {
     "data": {
      "text/plain": [
       "10"
      ]
     },
     "execution_count": 17,
     "metadata": {},
     "output_type": "execute_result"
    }
   ],
   "source": [
    "# Checking the number unique values using set\n",
    "output_options = len(set(y_train))\n",
    "output_options"
   ]
  },
  {
   "cell_type": "code",
   "execution_count": 18,
   "metadata": {},
   "outputs": [
    {
     "data": {
      "text/plain": [
       "<matplotlib.image.AxesImage at 0x2a3b3e45210>"
      ]
     },
     "execution_count": 18,
     "metadata": {},
     "output_type": "execute_result"
    },
    {
     "data": {
      "image/png": "[encoded data removed]",
      "text/plain": [
       "<Figure size 480x480 with 1 Axes>"
      ]
     },
     "metadata": {},
     "output_type": "display_data"
    }
   ],
   "source": [
    "# Investigating train data at index 6\n",
    "Xtrain_matrix = X_train[29].reshape((28,28))\n",
    "plt.matshow(Xtrain_matrix)"
   ]
  },
  {
   "cell_type": "code",
   "execution_count": 19,
   "metadata": {},
   "outputs": [
    {
     "data": {
      "text/plain": [
       "7"
      ]
     },
     "execution_count": 19,
     "metadata": {},
     "output_type": "execute_result"
    }
   ],
   "source": [
    "y_train[29]"
   ]
  },
  {
   "cell_type": "code",
   "execution_count": 20,
   "metadata": {},
   "outputs": [
    {
     "name": "stdout",
     "output_type": "stream",
     "text": [
      "Epoch 1/10\n",
      "1407/1407 [==============================] - 18s 12ms/step - loss: 25.0879 - accuracy: 0.8503\n",
      "Epoch 2/10\n",
      "1407/1407 [==============================] - 21s 15ms/step - loss: 6.3837 - accuracy: 0.8527\n",
      "Epoch 3/10\n",
      "1407/1407 [==============================] - 17s 12ms/step - loss: 5.6480 - accuracy: 0.8459\n",
      "Epoch 4/10\n",
      "1407/1407 [==============================] - 17s 12ms/step - loss: 5.9662 - accuracy: 0.8478\n",
      "Epoch 5/10\n",
      "1407/1407 [==============================] - 24s 17ms/step - loss: 5.8809 - accuracy: 0.8579\n",
      "Epoch 6/10\n",
      "1407/1407 [==============================] - 17s 12ms/step - loss: 5.9729 - accuracy: 0.8642\n",
      "Epoch 7/10\n",
      "1407/1407 [==============================] - 20s 14ms/step - loss: 6.3164 - accuracy: 0.8672\n",
      "Epoch 8/10\n",
      "1407/1407 [==============================] - 24s 17ms/step - loss: 6.3916 - accuracy: 0.8686\n",
      "Epoch 9/10\n",
      "1407/1407 [==============================] - 22s 16ms/step - loss: 6.5011 - accuracy: 0.8727\n",
      "Epoch 10/10\n",
      "1407/1407 [==============================] - 23s 16ms/step - loss: 6.4692 - accuracy: 0.8739\n"
     ]
    },
    {
     "data": {
      "text/plain": [
       "<keras.src.callbacks.History at 0x2a3b3e12c90>"
      ]
     },
     "execution_count": 20,
     "metadata": {},
     "output_type": "execute_result"
    }
   ],
   "source": [
    "# Creating, compiling, and fitting our neural network model\n",
    "# output_options = 10\n",
    "\n",
    "ai_model = tf.keras.Sequential()\n",
    "ai_model.add(tf.keras.layers.Dense(input_features)) # 784 input features\n",
    "ai_model.add(tf.keras.layers.Dense(output_options, activation='sigmoid')) #Output options and activation\n",
    "#It can be relu, softmax, softsign, tanh, selu, elu, exponential, PRelu, LeakyReLu\n",
    "\n",
    "# Compiling the neural network model\n",
    "ai_model.compile(\n",
    "    optimizer='adam', # Others are: 'SGD','RMSprop','Adam','Adadelta','Adagrad','Adamax','Nadam','Ftrl', 'AdamW', 'Adafactor'\n",
    "    loss='sparse_categorical_crossentropy', # Others are: categorical_crossentropy, poisson, kl_divergence, binary_crossentropy\n",
    "    metrics=['accuracy'] # Others are: binary_accuracy, categorical_accuracy, sparse_categorical_accuracy \n",
    ")\n",
    "\n",
    "# Fitting the model with train data\n",
    "training_times = 10\n",
    "ai_model.fit(X_train,y_train, epochs=training_times)"
   ]
  },
  {
   "cell_type": "code",
   "execution_count": 21,
   "metadata": {},
   "outputs": [
    {
     "name": "stdout",
     "output_type": "stream",
     "text": [
      "469/469 [==============================] - 3s 5ms/step - loss: 8.1262 - accuracy: 0.8532\n"
     ]
    },
    {
     "data": {
      "text/plain": [
       "[8.126246452331543, 0.8532000184059143]"
      ]
     },
     "execution_count": 21,
     "metadata": {},
     "output_type": "execute_result"
    }
   ],
   "source": [
    "# Evaluating with Test Data\n",
    "ai_model.evaluate(X_test, y_test)"
   ]
  },
  {
   "cell_type": "markdown",
   "metadata": {},
   "source": [
    "## Applying Scaling to improve accuracy"
   ]
  },
  {
   "cell_type": "code",
   "execution_count": 22,
   "metadata": {},
   "outputs": [
    {
     "data": {
      "text/plain": [
       "255"
      ]
     },
     "execution_count": 22,
     "metadata": {},
     "output_type": "execute_result"
    }
   ],
   "source": [
    "max_val = dg_features.max()\n",
    "max_val"
   ]
  },
  {
   "cell_type": "code",
   "execution_count": null,
   "metadata": {},
   "outputs": [],
   "source": []
  },
  {
   "cell_type": "code",
   "execution_count": 23,
   "metadata": {},
   "outputs": [],
   "source": [
    "# Scaling each data by the maximum value (16)\n",
    "scal_Xtrain = X_train/max_val\n",
    "scal_Xtest = X_test/max_val"
   ]
  },
  {
   "cell_type": "code",
   "execution_count": 24,
   "metadata": {},
   "outputs": [
    {
     "name": "stdout",
     "output_type": "stream",
     "text": [
      "Epoch 1/10\n",
      "1407/1407 [==============================] - 25s 16ms/step - loss: 0.3679 - accuracy: 0.8949\n",
      "Epoch 2/10\n",
      "1407/1407 [==============================] - 23s 16ms/step - loss: 0.2985 - accuracy: 0.9162\n",
      "Epoch 3/10\n",
      "1407/1407 [==============================] - 23s 16ms/step - loss: 0.2831 - accuracy: 0.9203\n",
      "Epoch 4/10\n",
      "1407/1407 [==============================] - 23s 17ms/step - loss: 0.2761 - accuracy: 0.9231\n",
      "Epoch 5/10\n",
      "1407/1407 [==============================] - 20s 15ms/step - loss: 0.2724 - accuracy: 0.9243\n",
      "Epoch 6/10\n",
      "1407/1407 [==============================] - 27s 19ms/step - loss: 0.2675 - accuracy: 0.9245\n",
      "Epoch 7/10\n",
      "1407/1407 [==============================] - 26s 18ms/step - loss: 0.2641 - accuracy: 0.9262\n",
      "Epoch 8/10\n",
      "1407/1407 [==============================] - 29s 21ms/step - loss: 0.2608 - accuracy: 0.9267\n",
      "Epoch 9/10\n",
      "1407/1407 [==============================] - 29s 21ms/step - loss: 0.2575 - accuracy: 0.9286\n",
      "Epoch 10/10\n",
      "1407/1407 [==============================] - 28s 20ms/step - loss: 0.2570 - accuracy: 0.9287\n"
     ]
    },
    {
     "data": {
      "text/plain": [
       "<keras.src.callbacks.History at 0x2a3b6ee2390>"
      ]
     },
     "execution_count": 24,
     "metadata": {},
     "output_type": "execute_result"
    }
   ],
   "source": [
    "# Creating, compiling, and fitting our neural network model\n",
    "# output_options = 10\n",
    "\n",
    "ai_model = tf.keras.Sequential()\n",
    "ai_model.add(tf.keras.layers.Dense(input_features)) # 784 input features\n",
    "ai_model.add(tf.keras.layers.Dense(output_options, activation='sigmoid')) #Output options and activation\n",
    "#It can be relu, softmax, softsign, tanh, selu, elu, exponential, PRelu, LeakyReLu\n",
    "\n",
    "# Compiling the neural network model\n",
    "ai_model.compile(\n",
    "    optimizer='adamax', # Others are: 'SGD','RMSprop','Adam','Adadelta','Adagrad','Adamax','Nadam','Ftrl', 'AdamW', 'Adafactor'\n",
    "    loss='sparse_categorical_crossentropy', # Others are: categorical_crossentropy, poisson, kl_divergence, binary_crossentropy\n",
    "    metrics=['accuracy'] # Others are: binary_accuracy, categorical_accuracy, sparse_categorical_accuracy \n",
    ")\n",
    "\n",
    "# Fitting the model with train data\n",
    "training_times = 10\n",
    "ai_model.fit(scal_Xtrain,y_train, epochs=training_times)"
   ]
  },
  {
   "cell_type": "code",
   "execution_count": 25,
   "metadata": {},
   "outputs": [
    {
     "name": "stdout",
     "output_type": "stream",
     "text": [
      "469/469 [==============================] - 3s 6ms/step - loss: 0.3077 - accuracy: 0.9164\n"
     ]
    },
    {
     "data": {
      "text/plain": [
       "[0.3076544404029846, 0.9164000153541565]"
      ]
     },
     "execution_count": 25,
     "metadata": {},
     "output_type": "execute_result"
    }
   ],
   "source": [
    "# Evaluating with Test Data\n",
    "ai_model.evaluate(scal_Xtest, y_test)"
   ]
  },
  {
   "cell_type": "code",
   "execution_count": null,
   "metadata": {},
   "outputs": [],
   "source": []
  },
  {
   "cell_type": "code",
   "execution_count": 26,
   "metadata": {},
   "outputs": [
    {
     "name": "stdout",
     "output_type": "stream",
     "text": [
      "Epoch 1/10\n",
      "1407/1407 [==============================] - 25s 17ms/step - loss: 0.3811 - accuracy: 0.8918\n",
      "Epoch 2/10\n",
      "1407/1407 [==============================] - 24s 17ms/step - loss: 0.3252 - accuracy: 0.9079\n",
      "Epoch 3/10\n",
      "1407/1407 [==============================] - 24s 17ms/step - loss: 0.3139 - accuracy: 0.9124\n",
      "Epoch 4/10\n",
      "1407/1407 [==============================] - 24s 17ms/step - loss: 0.3011 - accuracy: 0.9148\n",
      "Epoch 5/10\n",
      "1407/1407 [==============================] - 24s 17ms/step - loss: 0.2932 - accuracy: 0.9177\n",
      "Epoch 6/10\n",
      "1407/1407 [==============================] - 24s 17ms/step - loss: 0.2898 - accuracy: 0.9173\n",
      "Epoch 7/10\n",
      "1407/1407 [==============================] - 24s 17ms/step - loss: 0.2847 - accuracy: 0.9200\n",
      "Epoch 8/10\n",
      "1407/1407 [==============================] - 23s 17ms/step - loss: 0.2811 - accuracy: 0.9206\n",
      "Epoch 9/10\n",
      "1407/1407 [==============================] - 25s 18ms/step - loss: 0.2753 - accuracy: 0.9217\n",
      "Epoch 10/10\n",
      "1407/1407 [==============================] - 24s 17ms/step - loss: 0.2745 - accuracy: 0.9227\n"
     ]
    },
    {
     "data": {
      "text/plain": [
       "<keras.src.callbacks.History at 0x2a3b9a23c50>"
      ]
     },
     "execution_count": 26,
     "metadata": {},
     "output_type": "execute_result"
    }
   ],
   "source": [
    "# Using my Best optimizer (Adam)\n",
    "# Creating, compiling, and fitting our neural network model\n",
    "# output_options = 10\n",
    "\n",
    "ai_model = tf.keras.Sequential()\n",
    "ai_model.add(tf.keras.layers.Dense(input_features)) # 784 input features\n",
    "ai_model.add(tf.keras.layers.Dense(output_options, activation='sigmoid')) #Output options and activation\n",
    "#It can be relu, softmax, softsign, tanh, selu, elu, exponential, PRelu, LeakyReLu\n",
    "\n",
    "# Compiling the neural network model\n",
    "ai_model.compile(\n",
    "    optimizer='adam', # Others are: 'SGD','RMSprop','Adam','Adadelta','Adagrad','Adamax','Nadam','Ftrl', 'AdamW', 'Adafactor'\n",
    "    loss='sparse_categorical_crossentropy', # Others are: categorical_crossentropy, poisson, kl_divergence, binary_crossentropy\n",
    "    metrics=['accuracy'] # Others are: binary_accuracy, categorical_accuracy, sparse_categorical_accuracy \n",
    ")\n",
    "\n",
    "# Fitting the model with train data\n",
    "training_times = 10\n",
    "ai_model.fit(scal_Xtrain,y_train, epochs=training_times)"
   ]
  },
  {
   "cell_type": "code",
   "execution_count": 27,
   "metadata": {},
   "outputs": [
    {
     "name": "stdout",
     "output_type": "stream",
     "text": [
      "469/469 [==============================] - 3s 6ms/step - loss: 0.3130 - accuracy: 0.9154\n"
     ]
    },
    {
     "data": {
      "text/plain": [
       "[0.3129652142524719, 0.9154000282287598]"
      ]
     },
     "execution_count": 27,
     "metadata": {},
     "output_type": "execute_result"
    }
   ],
   "source": [
    "# Evaluating with Test Data\n",
    "ai_model.evaluate(scal_Xtest, y_test)"
   ]
  },
  {
   "cell_type": "code",
   "execution_count": 28,
   "metadata": {},
   "outputs": [
    {
     "name": "stdout",
     "output_type": "stream",
     "text": [
      "469/469 [==============================] - 3s 6ms/step\n"
     ]
    },
    {
     "data": {
      "text/plain": [
       "array([0.00106576, 0.99966913, 0.9518389 , 0.94011796, 0.00318983,\n",
       "       0.31027815, 0.07961791, 0.09858923, 0.95303226, 0.12350307],\n",
       "      dtype=float32)"
      ]
     },
     "execution_count": 28,
     "metadata": {},
     "output_type": "execute_result"
    }
   ],
   "source": [
    "# Extracting the predicted test values\n",
    "y_predicted = ai_model.predict(scal_Xtest)\n",
    "y_predicted[28]"
   ]
  },
  {
   "cell_type": "code",
   "execution_count": 29,
   "metadata": {},
   "outputs": [
    {
     "data": {
      "text/plain": [
       "1"
      ]
     },
     "execution_count": 29,
     "metadata": {},
     "output_type": "execute_result"
    }
   ],
   "source": [
    "np.argmax(y_predicted[28])"
   ]
  },
  {
   "cell_type": "code",
   "execution_count": 30,
   "metadata": {},
   "outputs": [
    {
     "data": {
      "text/plain": [
       "<matplotlib.image.AxesImage at 0x2a3ba3a70d0>"
      ]
     },
     "execution_count": 30,
     "metadata": {},
     "output_type": "execute_result"
    },
    {
     "data": {
      "image/png": "[encoded data removed]",
      "text/plain": [
       "<Figure size 480x480 with 1 Axes>"
      ]
     },
     "metadata": {},
     "output_type": "display_data"
    }
   ],
   "source": [
    "# Investigating test data at index 22\n",
    "Xtest_matrix = X_test[28].reshape((28,28))\n",
    "plt.matshow(Xtest_matrix)"
   ]
  },
  {
   "cell_type": "code",
   "execution_count": 31,
   "metadata": {},
   "outputs": [
    {
     "data": {
      "text/plain": [
       "1"
      ]
     },
     "execution_count": 31,
     "metadata": {},
     "output_type": "execute_result"
    }
   ],
   "source": [
    "# Checking the actual y_test value\n",
    "y_test[28]"
   ]
  },
  {
   "cell_type": "code",
   "execution_count": 32,
   "metadata": {},
   "outputs": [],
   "source": [
    "# Extracting the actual predictions rather than probability\n",
    "y_predicted_labels = [np.argmax(i) for i in y_predicted]"
   ]
  },
  {
   "cell_type": "code",
   "execution_count": 33,
   "metadata": {},
   "outputs": [
    {
     "data": {
      "text/plain": [
       "<tf.Tensor: shape=(10, 10), dtype=int32, numpy=\n",
       "array([[1433,    1,    5,    2,    1,    9,   15,    8,   13,    2],\n",
       "       [   0, 1658,    6,    7,    3,    4,    1,    2,   25,    2],\n",
       "       [   9,   20, 1316,   32,   21,    7,   17,   21,   46,    6],\n",
       "       [   7,    3,   20, 1357,    3,   60,    6,   17,   31,   20],\n",
       "       [   6,    0,    4,    1, 1335,    3,   21,    1,   16,   49],\n",
       "       [  13,    5,    5,   42,    9, 1174,   40,    7,   46,    8],\n",
       "       [  10,    4,   20,    1,   18,   11, 1422,    1,   11,    0],\n",
       "       [   1,    6,   12,   20,   21,    7,    1, 1449,    6,   53],\n",
       "       [   4,   25,    8,   51,    3,   43,   17,    8, 1269,   21],\n",
       "       [   6,    4,    0,   28,   40,   19,    0,   47,   20, 1312]])>"
      ]
     },
     "execution_count": 33,
     "metadata": {},
     "output_type": "execute_result"
    }
   ],
   "source": [
    "# Creating a Confusion Matrix\n",
    "confusion_matrix_v1 = tf.math.confusion_matrix(labels=y_test, predictions=y_predicted_labels)\n",
    "confusion_matrix_v1"
   ]
  },
  {
   "cell_type": "code",
   "execution_count": 34,
   "metadata": {},
   "outputs": [
    {
     "data": {
      "text/plain": [
       "Text(58.222222222222214, 0.5, 'Actual values')"
      ]
     },
     "execution_count": 34,
     "metadata": {},
     "output_type": "execute_result"
    },
    {
     "data": {
      "image/png": "[encoded data removed]",
      "text/plain": [
       "<Figure size 700x500 with 2 Axes>"
      ]
     },
     "metadata": {},
     "output_type": "display_data"
    }
   ],
   "source": [
    "# Using seaborn libary\n",
    "import seaborn as sn\n",
    "plt.figure(figsize=(7,5))\n",
    "sn.heatmap(confusion_matrix_v1, annot=True, fmt='d')\n",
    "plt.xlabel('Predicted values')\n",
    "plt.ylabel('Actual values')"
   ]
  },
  {
   "cell_type": "code",
   "execution_count": null,
   "metadata": {},
   "outputs": [],
   "source": []
  },
  {
   "cell_type": "code",
   "execution_count": null,
   "metadata": {},
   "outputs": [],
   "source": [
    "# Using an intermediate Layer to improve accuracy"
   ]
  },
  {
   "cell_type": "code",
   "execution_count": 37,
   "metadata": {},
   "outputs": [
    {
     "name": "stdout",
     "output_type": "stream",
     "text": [
      "Epoch 1/10\n",
      "1407/1407 [==============================] - 23s 15ms/step - loss: 0.2671 - accuracy: 0.9198\n",
      "Epoch 2/10\n",
      "1407/1407 [==============================] - 22s 15ms/step - loss: 0.1655 - accuracy: 0.9516\n",
      "Epoch 3/10\n",
      "1407/1407 [==============================] - 22s 16ms/step - loss: 0.1435 - accuracy: 0.9593\n",
      "Epoch 4/10\n",
      "1407/1407 [==============================] - 22s 16ms/step - loss: 0.1309 - accuracy: 0.9636\n",
      "Epoch 5/10\n",
      "1407/1407 [==============================] - 22s 16ms/step - loss: 0.1253 - accuracy: 0.9658\n",
      "Epoch 6/10\n",
      "1407/1407 [==============================] - 22s 15ms/step - loss: 0.1183 - accuracy: 0.9684\n",
      "Epoch 7/10\n",
      "1407/1407 [==============================] - 21s 15ms/step - loss: 0.1136 - accuracy: 0.9710\n",
      "Epoch 8/10\n",
      "1407/1407 [==============================] - 22s 16ms/step - loss: 0.1012 - accuracy: 0.9740\n",
      "Epoch 9/10\n",
      "1407/1407 [==============================] - 22s 15ms/step - loss: 0.1148 - accuracy: 0.9732\n",
      "Epoch 10/10\n",
      "1407/1407 [==============================] - 22s 16ms/step - loss: 0.0928 - accuracy: 0.9761\n"
     ]
    },
    {
     "data": {
      "text/plain": [
       "<keras.src.callbacks.History at 0x2a3f711ef50>"
      ]
     },
     "execution_count": 37,
     "metadata": {},
     "output_type": "execute_result"
    }
   ],
   "source": [
    "# Using my Best optimizer (Adam)\n",
    "# Creating, compiling, and fitting our neural network model\n",
    "# output_options = 10\n",
    "# Intermediate neurons = 394\n",
    "\n",
    "ai_model = tf.keras.Sequential()\n",
    "ai_model.add(tf.keras.layers.Dense(input_features)) # 784 input features\n",
    "ai_model.add(tf.keras.layers.Dense(392, activation='leaky_relu')) # Intermediate layer\n",
    "ai_model.add(tf.keras.layers.Dense(output_options, activation='sigmoid')) #Output activation\n",
    "#It can be relu, softmax, softsign, tanh, selu, elu, exponential, PRelu, LeakyReLu\n",
    "\n",
    "# Compiling the neural network model\n",
    "ai_model.compile(\n",
    "    optimizer='adam', # Others are: 'SGD','RMSprop','Adam','Adadelta','Adagrad','Adamax','Nadam','Ftrl', 'AdamW', 'Adafactor'\n",
    "    loss='sparse_categorical_crossentropy', # Others are: categorical_crossentropy, poisson, kl_divergence, binary_crossentropy\n",
    "    metrics=['accuracy'] # Others are: binary_accuracy, categorical_accuracy, sparse_categorical_accuracy \n",
    ")\n",
    "\n",
    "# Fitting the model with train data\n",
    "training_times = 10\n",
    "ai_model.fit(scal_Xtrain,y_train, epochs=training_times)"
   ]
  },
  {
   "cell_type": "code",
   "execution_count": 38,
   "metadata": {},
   "outputs": [
    {
     "name": "stdout",
     "output_type": "stream",
     "text": [
      "1500/1500 [==============================] - 4s 2ms/step - loss: 0.1828 - accuracy: 0.9686\n"
     ]
    },
    {
     "data": {
      "text/plain": [
       "[0.18283183872699738, 0.9685999751091003]"
      ]
     },
     "execution_count": 38,
     "metadata": {},
     "output_type": "execute_result"
    }
   ],
   "source": [
    "# Evaluating with Test Data\n",
    "# batch_size is what ratio of the actual test data should be used\n",
    "ai_model.evaluate(scal_Xtest, y_test, batch_size=10)"
   ]
  },
  {
   "cell_type": "code",
   "execution_count": 39,
   "metadata": {},
   "outputs": [
    {
     "name": "stdout",
     "output_type": "stream",
     "text": [
      "469/469 [==============================] - 2s 4ms/step\n"
     ]
    },
    {
     "data": {
      "text/plain": [
       "array([1.0000000e+00, 5.6338454e-06, 8.2390362e-01, 4.4322853e-05,\n",
       "       1.9707873e-06, 5.1176612e-06, 9.9976885e-01, 6.1828005e-01,\n",
       "       5.2898730e-07, 7.9501510e-01], dtype=float32)"
      ]
     },
     "execution_count": 39,
     "metadata": {},
     "output_type": "execute_result"
    }
   ],
   "source": [
    "# Extracting the predicted test values\n",
    "y_predicted = ai_model.predict(scal_Xtest)\n",
    "y_predicted[38]"
   ]
  },
  {
   "cell_type": "code",
   "execution_count": 40,
   "metadata": {},
   "outputs": [
    {
     "data": {
      "text/plain": [
       "0"
      ]
     },
     "execution_count": 40,
     "metadata": {},
     "output_type": "execute_result"
    }
   ],
   "source": [
    "np.argmax(y_predicted[38])"
   ]
  },
  {
   "cell_type": "code",
   "execution_count": 41,
   "metadata": {},
   "outputs": [
    {
     "data": {
      "text/plain": [
       "<matplotlib.image.AxesImage at 0x2a3fa7eeb10>"
      ]
     },
     "execution_count": 41,
     "metadata": {},
     "output_type": "execute_result"
    },
    {
     "data": {
      "image/png": "[encoded data removed]",
      "text/plain": [
       "<Figure size 480x480 with 1 Axes>"
      ]
     },
     "metadata": {},
     "output_type": "display_data"
    }
   ],
   "source": [
    "# Investigating test data at index 22\n",
    "Xtest_matrix = X_test[38].reshape((28,28))\n",
    "plt.matshow(Xtest_matrix)"
   ]
  },
  {
   "cell_type": "code",
   "execution_count": 42,
   "metadata": {},
   "outputs": [
    {
     "data": {
      "text/plain": [
       "0"
      ]
     },
     "execution_count": 42,
     "metadata": {},
     "output_type": "execute_result"
    }
   ],
   "source": [
    "# Checking the actual y_test value\n",
    "y_test[38]"
   ]
  },
  {
   "cell_type": "code",
   "execution_count": 43,
   "metadata": {},
   "outputs": [],
   "source": [
    "# Extracting the actual predictions rather than probability\n",
    "y_predicted_labels = [np.argmax(i) for i in y_predicted]"
   ]
  },
  {
   "cell_type": "code",
   "execution_count": 44,
   "metadata": {},
   "outputs": [
    {
     "data": {
      "text/plain": [
       "<tf.Tensor: shape=(10, 10), dtype=int32, numpy=\n",
       "array([[1470,    0,    5,    2,    0,    1,    1,    3,    4,    3],\n",
       "       [   0, 1687,    4,    0,    3,    0,    2,    0,   11,    1],\n",
       "       [   8,   50, 1388,   13,    6,    1,    2,   16,    8,    3],\n",
       "       [   0,    6,   26, 1465,    0,    7,    0,    5,    9,    6],\n",
       "       [   5,    0,   26,    2, 1385,    1,    4,    2,    1,   10],\n",
       "       [   1,    1,    2,  161,    1, 1166,    7,    3,    3,    4],\n",
       "       [ 115,    0,   30,    1,   16,   55, 1279,    0,    1,    1],\n",
       "       [   8,    8,   25,   21,   16,    7,    0, 1486,    1,    4],\n",
       "       [   6,    4,   11,   53,   10,   43,    3,    5, 1309,    5],\n",
       "       [   3,    1,    5,   39,  239,   31,    0,   65,   11, 1082]])>"
      ]
     },
     "execution_count": 44,
     "metadata": {},
     "output_type": "execute_result"
    }
   ],
   "source": [
    "# Creating a Confusion Matrix\n",
    "confusion_matrix_v2 = tf.math.confusion_matrix(labels=y_test, predictions=y_predicted_labels)\n",
    "confusion_matrix_v2"
   ]
  },
  {
   "cell_type": "code",
   "execution_count": 45,
   "metadata": {},
   "outputs": [
    {
     "data": {
      "text/plain": [
       "Text(58.222222222222214, 0.5, 'Actual values')"
      ]
     },
     "execution_count": 45,
     "metadata": {},
     "output_type": "execute_result"
    },
    {
     "data": {
      "image/png": "[encoded data removed]",
      "text/plain": [
       "<Figure size 700x500 with 2 Axes>"
      ]
     },
     "metadata": {},
     "output_type": "display_data"
    }
   ],
   "source": [
    "# Using seaborn libary for v2 matrix\n",
    "import seaborn as sn\n",
    "plt.figure(figsize=(7,5))\n",
    "sn.heatmap(confusion_matrix_v2, annot=True, fmt='d')\n",
    "plt.xlabel('Predicted values')\n",
    "plt.ylabel('Actual values')"
   ]
  },
  {
   "cell_type": "code",
   "execution_count": 46,
   "metadata": {},
   "outputs": [
    {
     "data": {
      "text/plain": [
       "Text(58.222222222222214, 0.5, 'Actual values')"
      ]
     },
     "execution_count": 46,
     "metadata": {},
     "output_type": "execute_result"
    },
    {
     "data": {
      "image/png": "[encoded data removed]",
      "text/plain": [
       "<Figure size 700x500 with 2 Axes>"
      ]
     },
     "metadata": {},
     "output_type": "display_data"
    }
   ],
   "source": [
    "# Using seaborn libary for v1 matrix\n",
    "import seaborn as sn\n",
    "plt.figure(figsize=(7,5))\n",
    "sn.heatmap(confusion_matrix_v1, annot=True, fmt='d')\n",
    "plt.xlabel('Predicted values')\n",
    "plt.ylabel('Actual values')"
   ]
  },
  {
   "cell_type": "code",
   "execution_count": null,
   "metadata": {},
   "outputs": [],
   "source": []
  },
  {
   "cell_type": "code",
   "execution_count": null,
   "metadata": {},
   "outputs": [],
   "source": []
  }
 ],
 "metadata": {
  "kernelspec": {
   "display_name": "Python 3 (ipykernel)",
   "language": "python",
   "name": "python3"
  },
  "language_info": {
   "codemirror_mode": {
    "name": "ipython",
    "version": 3
   },
   "file_extension": ".py",
   "mimetype": "text/x-python",
   "name": "python",
   "nbconvert_exporter": "python",
   "pygments_lexer": "ipython3",
   "version": "3.11.2"
  }
 },
 "nbformat": 4,
 "nbformat_minor": 2
}
